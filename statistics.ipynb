{
 "cells": [
  {
   "cell_type": "markdown",
   "metadata": {},
   "source": [
    "https://github.com/mica5/statistics/blob/master/statistics.ipynb"
   ]
  },
  {
   "cell_type": "markdown",
   "metadata": {},
   "source": [
    "# Introduction\n",
    "\n",
    "Any data here, unless otherwise stated, is from the book Probability and Statistics for Engineering and the Sciences, 9th Edition, by Jay Devore (CENGAGE Learning). https://www.amazon.com/Probability-Statistics-Engineering-Sciences-Devore/dp/1305251806 ; many of concepts here are from there and also from taking MATH161A at SJSU (San Jose State University in San Jose, California) in Spring 2018.\n"
   ]
  },
  {
   "cell_type": "code",
   "execution_count": 272,
   "metadata": {},
   "outputs": [],
   "source": [
    "# these are standard imports\n",
    "import pandas as pd\n",
    "import numpy as np\n",
    "import seaborn as sns\n",
    "import matplotlib.pyplot as plt\n",
    "\n",
    "# additional imports\n",
    "from sklearn import datasets\n",
    "from IPython.display import HTML"
   ]
  },
  {
   "cell_type": "markdown",
   "metadata": {},
   "source": [
    "# Stratified Sampling"
   ]
  },
  {
   "cell_type": "code",
   "execution_count": 9,
   "metadata": {
    "scrolled": true
   },
   "outputs": [
    {
     "name": "stdout",
     "output_type": "stream",
     "text": [
      "proportion of 0s: 0.3333333333333333\n",
      "proportion of 1s: 0.6666666666666666\n",
      "all added together to make sure it adds to 1: 1.0\n",
      "number of 1s compared to 0s, which should be 2: 2.0\n"
     ]
    }
   ],
   "source": [
    "from sklearn.model_selection import train_test_split\n",
    "\n",
    "i = 100\n",
    "\n",
    "# generate lists. it will look like [0, 0, ..., 0, 1, 1, ..., 1], where there are twice as many 1s as there are 0s\n",
    "population = [0]*i + [1]*i*2\n",
    "# the category is used to first split all the data by categories, then random sampling will be taken from within each category. but the way stratified sampling is meant to happen is that the number of items selected in each category compared to the number of items selected from the other categories is roughly proportional to the number of items in that category compared to the number of items in the population. that way, each category should get a representational sample, instead of categories with more items compared to the number in other catgories getting underrepresented compared to categories that have very few items.\n",
    "category = [0]*i + [1]*i*2\n",
    "# we should have twice as many 1s as we have 0s\n",
    "\n",
    "# take the stratified sample. by default, based on sklearn version 0.19.1, the sample will be 75% of the population (by default, test is 25%, and train is the complement of test, so train will be 75%)\n",
    "sample, _ = train_test_split(population, stratify=category)\n",
    "\n",
    "# count the number of 0s and ones\n",
    "c0 = sample.count(0)\n",
    "c1 = sample.count(1)\n",
    "total = c0 + c1\n",
    "# here are the proportions.\n",
    "print('proportion of 0s:', c0 / total)\n",
    "print('proportion of 1s:', c1 / total)\n",
    "print('all added together to make sure it adds to 1:', (c0+c1)/total)\n",
    "print('number of 1s compared to 0s, which should be 2:', c1/c0)"
   ]
  },
  {
   "cell_type": "markdown",
   "metadata": {},
   "source": [
    "# Stem and leaf display"
   ]
  },
  {
   "cell_type": "code",
   "execution_count": 10,
   "metadata": {},
   "outputs": [
    {
     "name": "stdout",
     "output_type": "stream",
     "text": [
      "3|1\n",
      "4|059\n",
      "5|23788\n",
      "6|01136777789\n",
      "7|000023556689\n",
      "8|0134\n"
     ]
    }
   ],
   "source": [
    "# presidential Commission on the Space Shuttle Challenger Accident, Vol. 1, 1986: 129-131\n",
    "o_ring_temperatures = [84, 49, 61, 40, 83, 67, 45, 66, 70, 69, 80, 58, 68, 60, 67, 72, 73, 70, 57, 63, 70, 78, 52, 67, 53, 67, 75, 61, 70, 81, 76, 79, 75, 76, 58, 31]\n",
    "\n",
    "def stem_and_leaf_display(data):\n",
    "    \"\"\"print a stem-and-leaf display to standard output\n",
    "\n",
    "    This is a very primitive algorithm, as it only works for\n",
    "    two-digit numbers. It is only for demonstrative purposes.\n",
    "    \"\"\"\n",
    "    sld = dict()\n",
    "    for n in data:\n",
    "        stem = str(n)[0]\n",
    "        if stem not in sld:\n",
    "            sld[stem] = list()\n",
    "        sld[stem].append(str(n)[-1])\n",
    "    lowkey = min(sld.keys())\n",
    "    highkey = max(sld.keys())\n",
    "    for i in range(int(lowkey), int(highkey)+1, 1):\n",
    "        i = '{}'.format(i)\n",
    "        if i not in sld:\n",
    "            sld[i] = list()\n",
    "    for stem in sorted(sld.keys()):\n",
    "        print(stem+'|', end='')\n",
    "        for value in sorted(sld[stem]):\n",
    "            print(value, end='')\n",
    "        print()\n",
    "stem_and_leaf_display(o_ring_temperatures)"
   ]
  },
  {
   "cell_type": "markdown",
   "metadata": {},
   "source": [
    "# Notation\n",
    "\n",
    "An example sample: {6.3, 6.2, 5.9, 6.5}, and an example population that sample was drawn from: {6.3, 4.8, 6.2, 7.6, 5.9, 6.4, 6.5, 5.9}<br>\n",
    "n=4, where n is the number of observations in the sample.<br>\n",
    "When considering more than one sample, we can use $n$ and $m$ or $n_1$ and $n_2$.\n",
    "\n",
    "Letters like x, y, and z are used to denote variables, e.g. length/height/width/age/...<br>\n",
    "When considering the variable for multiple samples, we can use $x_1, x_2, x_3, \\dots, x_n$. The subscribt number is the observation number, like the id in a database, which typically has no relationship to the values themselves."
   ]
  },
  {
   "cell_type": "code",
   "execution_count": 293,
   "metadata": {},
   "outputs": [
    {
     "data": {
      "text/html": [
       "<table border=\"1\" class=\"dataframe\">\n",
       "  <thead>\n",
       "    <tr style=\"text-align: right;\">\n",
       "      <th></th>\n",
       "      <th>Population</th>\n",
       "      <th>Sample</th>\n",
       "    </tr>\n",
       "    <tr>\n",
       "      <th>Construct</th>\n",
       "      <th></th>\n",
       "      <th></th>\n",
       "    </tr>\n",
       "  </thead>\n",
       "  <tbody>\n",
       "    <tr>\n",
       "      <th>count</th>\n",
       "      <td>N</td>\n",
       "      <td>n</td>\n",
       "    </tr>\n",
       "    <tr>\n",
       "      <th>mean</th>\n",
       "      <td>$\\mu$</td>\n",
       "      <td>$\\bar{x}$</td>\n",
       "    </tr>\n",
       "    <tr>\n",
       "      <th>median</th>\n",
       "      <td></td>\n",
       "      <td>$\\tilde{x}$</td>\n",
       "    </tr>\n",
       "  </tbody>\n",
       "</table>"
      ],
      "text/plain": [
       "<IPython.core.display.HTML object>"
      ]
     },
     "execution_count": 293,
     "metadata": {},
     "output_type": "execute_result"
    }
   ],
   "source": [
    "headers = ['Construct', 'Population', 'Sample']\n",
    "data = [\n",
    "    ['count', 'N', 'n'],\n",
    "    ['mean', '$\\mu$', '$\\\\bar{x}$'],\n",
    "    ['median', '', '$\\\\tilde{x}$'],\n",
    "]\n",
    "HTML(pd.DataFrame(data, columns=headers).set_index('Construct').to_html(escape=False))"
   ]
  },
  {
   "cell_type": "markdown",
   "metadata": {},
   "source": [
    "# Vocabulary\n",
    "\n",
    "Point estimate: a single number that is a best guess (e.g. mean).<br>"
   ]
  },
  {
   "cell_type": "markdown",
   "metadata": {},
   "source": [
    "# Discrete vs continuous data\n",
    "\n",
    "Continuous data can be any decimal number, e.g. although we often truncate a temperature when we're talking about it like \"71 degrees fahrenheit\", temperature is continuous because it's actually (for example) 71.56209 degrees fahrenheit. We don't usually talk about the decimal place unless we're dealing with statistics/science/data.<br>\n",
    "Discrete data is like the number of times something happened. Either you went to the store or you didn't; you can't go to the store a half of a time. So the number of times you went to the store will always either be 0 or a multiple of 1 (never a decimal place).\n",
    "\n",
    "The stem-and-leaf display is good for discrete data, but gets complicated or impractical for continuous data. For continuous data, a more appropriate plot might be a histogram or a beeswarm plot (although a histogram could be used for discrete data)."
   ]
  },
  {
   "cell_type": "code",
   "execution_count": 50,
   "metadata": {
    "scrolled": false
   },
   "outputs": [
    {
     "data": {
      "image/png": "[encoded data removed]",
      "text/plain": [
       "<matplotlib.figure.Figure at 0x1a1f947898>"
      ]
     },
     "metadata": {},
     "output_type": "display_data"
    },
    {
     "name": "stdout",
     "output_type": "stream",
     "text": [
      "A histogram shows a frequency distribution\n"
     ]
    },
    {
     "data": {
      "image/png": "[encoded data removed]",
      "text/plain": [
       "<matplotlib.figure.Figure at 0x1a2111def0>"
      ]
     },
     "metadata": {},
     "output_type": "display_data"
    },
    {
     "name": "stdout",
     "output_type": "stream",
     "text": [
      "A beeswarm plot shows the exact values, whereas a histogram shows aggregates grouped by ranges.\n"
     ]
    }
   ],
   "source": [
    "np.random.seed(4)\n",
    "data = np.random.normal(size=150)\n",
    "\n",
    "plt.hist(data, bins=20)\n",
    "plt.show()\n",
    "print(\"A histogram shows a frequency distribution\")\n",
    "\n",
    "sns.swarmplot(data)\n",
    "plt.show()\n",
    "print(\"A beeswarm plot shows the exact values, whereas a histogram shows aggregates grouped by ranges.\")\n"
   ]
  },
  {
   "cell_type": "markdown",
   "metadata": {},
   "source": [
    "Devore, 16<br>\n",
    "frequency: total number of times a particular observation is observed<br>\n",
    "$\\text{relative frequency of a value} = \\frac{\\text{number of times the value occurs}}{\\text{number of observations in the data set}}$\n"
   ]
  },
  {
   "cell_type": "markdown",
   "metadata": {},
   "source": [
    "# Histograms and modality"
   ]
  },
  {
   "cell_type": "code",
   "execution_count": 174,
   "metadata": {},
   "outputs": [
    {
     "data": {
      "image/png": "[encoded data removed]",
      "text/plain": [
       "<matplotlib.figure.Figure at 0x1a25d2de80>"
      ]
     },
     "metadata": {},
     "output_type": "display_data"
    }
   ],
   "source": [
    "np.random.seed(3)\n",
    "data = np.random.normal(size=1000)\n",
    "plt.hist(data, bins=20)\n",
    "plt.title('Sample unimodal histogram')\n",
    "plt.show()"
   ]
  },
  {
   "cell_type": "code",
   "execution_count": 168,
   "metadata": {},
   "outputs": [
    {
     "data": {
      "image/png": "[encoded data removed]",
      "text/plain": [
       "<matplotlib.figure.Figure at 0x1a25837b00>"
      ]
     },
     "metadata": {},
     "output_type": "display_data"
    }
   ],
   "source": [
    "i = 2.5\n",
    "np.random.seed(1)\n",
    "data1 = np.random.normal(-i, size=1000)\n",
    "data2 = np.random.normal(i, size=1000)\n",
    "data = np.concatenate((data1, data2))\n",
    "plt.hist(data, bins=20)\n",
    "plt.title('Sample bimodal histogram')\n",
    "plt.show()"
   ]
  },
  {
   "cell_type": "code",
   "execution_count": 181,
   "metadata": {},
   "outputs": [
    {
     "data": {
      "image/png": "[encoded data removed]",
      "text/plain": [
       "<matplotlib.figure.Figure at 0x1a223fab00>"
      ]
     },
     "metadata": {},
     "output_type": "display_data"
    }
   ],
   "source": [
    "i = 4\n",
    "size = 500\n",
    "np.random.seed(1)\n",
    "a, b, c = np.linspace(-i, i, 3)\n",
    "data1 = np.random.normal(a, size=size)\n",
    "data2 = np.random.normal(b, size=size)\n",
    "data3 = np.random.normal(c, size=size)\n",
    "data = np.concatenate((data1, data2, data3))\n",
    "plt.hist(data, bins=20)\n",
    "plt.title('Sample multimodal histogram with 3 peaks')\n",
    "plt.show()"
   ]
  },
  {
   "cell_type": "markdown",
   "metadata": {},
   "source": [
    "# Categories"
   ]
  },
  {
   "cell_type": "code",
   "execution_count": 189,
   "metadata": {},
   "outputs": [
    {
     "data": {
      "text/plain": [
       "[A, B, C, D, F]\n",
       "Categories (5, object): [F < D < C < B < A]"
      ]
     },
     "execution_count": 189,
     "metadata": {},
     "output_type": "execute_result"
    }
   ],
   "source": [
    "letter_grades = [c for c in 'ABCDF']\n",
    "grades = pd.Categorical(letter_grades, ordered=True, categories=letter_grades[::-1])\n",
    "grades"
   ]
  },
  {
   "cell_type": "code",
   "execution_count": 191,
   "metadata": {},
   "outputs": [
    {
     "data": {
      "text/plain": [
       "[freshmen, sophomores, juniors, seniors, graduate students]\n",
       "Categories (5, object): [freshmen < sophomores < juniors < seniors < graduate students]"
      ]
     },
     "execution_count": 191,
     "metadata": {},
     "output_type": "execute_result"
    }
   ],
   "source": [
    "student_standing = 'freshmen, sophomores, juniors, seniors, graduate students'.split(', ')\n",
    "student_standing_categories = pd.Categorical(student_standing, ordered=True, categories=student_standing)\n",
    "student_standing_categories"
   ]
  },
  {
   "cell_type": "markdown",
   "metadata": {},
   "source": [
    "# Load a dataset"
   ]
  },
  {
   "cell_type": "code",
   "execution_count": 195,
   "metadata": {},
   "outputs": [
    {
     "name": "stdout",
     "output_type": "stream",
     "text": [
      "CPU times: user 2.45 ms, sys: 2.41 ms, total: 4.86 ms\n",
      "Wall time: 3.49 ms\n"
     ]
    }
   ],
   "source": [
    "%%time\n",
    "iris = datasets.load_iris()"
   ]
  },
  {
   "cell_type": "code",
   "execution_count": 196,
   "metadata": {},
   "outputs": [
    {
     "data": {
      "text/plain": [
       "sklearn.utils.Bunch"
      ]
     },
     "execution_count": 196,
     "metadata": {},
     "output_type": "execute_result"
    }
   ],
   "source": [
    "type(iris)"
   ]
  },
  {
   "cell_type": "code",
   "execution_count": 198,
   "metadata": {},
   "outputs": [
    {
     "data": {
      "text/plain": [
       "dict_keys(['DESCR', 'target_names', 'feature_names', 'target', 'data'])"
      ]
     },
     "execution_count": 198,
     "metadata": {},
     "output_type": "execute_result"
    }
   ],
   "source": [
    "iris.keys()"
   ]
  },
  {
   "cell_type": "code",
   "execution_count": 208,
   "metadata": {},
   "outputs": [
    {
     "name": "stdout",
     "output_type": "stream",
     "text": [
      "plant observations: 4 ['sepal length (cm)', 'sepal width (cm)', 'petal length (cm)', 'petal width (cm)']\n",
      "species: 3 ['setosa' 'versicolor' 'virginica']\n"
     ]
    }
   ],
   "source": [
    "print('plant observations:', len(iris['feature_names']), iris['feature_names'])\n",
    "print('species:', len(iris['target_names']), iris['target_names'])\n"
   ]
  },
  {
   "cell_type": "markdown",
   "metadata": {},
   "source": [
    "# Measures of location (e.g. mean and median)"
   ]
  },
  {
   "cell_type": "code",
   "execution_count": 219,
   "metadata": {},
   "outputs": [
    {
     "data": {
      "text/plain": [
       "(150,)"
      ]
     },
     "execution_count": 219,
     "metadata": {},
     "output_type": "execute_result"
    }
   ],
   "source": [
    "sepal_length = iris['data'][:, iris['feature_names'].index('sepal length (cm)')]\n",
    "sepal_length.shape"
   ]
  },
  {
   "cell_type": "code",
   "execution_count": 297,
   "metadata": {},
   "outputs": [
    {
     "data": {
      "text/plain": [
       "(4.2999999999999998, 7.9000000000000004)"
      ]
     },
     "execution_count": 297,
     "metadata": {},
     "output_type": "execute_result"
    }
   ],
   "source": [
    "sepal_length.min(), sepal_length.max()"
   ]
  },
  {
   "cell_type": "code",
   "execution_count": 225,
   "metadata": {},
   "outputs": [
    {
     "data": {
      "text/plain": [
       "5.8433333333333337"
      ]
     },
     "execution_count": 225,
     "metadata": {},
     "output_type": "execute_result"
    }
   ],
   "source": [
    "sepal_length_mean = sepal_length.mean()\n",
    "sepal_length_mean"
   ]
  },
  {
   "cell_type": "code",
   "execution_count": 295,
   "metadata": {},
   "outputs": [
    {
     "data": {
      "text/plain": [
       "5.7999999999999998"
      ]
     },
     "execution_count": 295,
     "metadata": {},
     "output_type": "execute_result"
    }
   ],
   "source": [
    "sepal_length_median = np.median(sepal_length)\n",
    "sepal_length_median"
   ]
  },
  {
   "cell_type": "code",
   "execution_count": 296,
   "metadata": {},
   "outputs": [
    {
     "data": {
      "image/png": "[encoded data removed]",
      "text/plain": [
       "<matplotlib.figure.Figure at 0x1a2942d518>"
      ]
     },
     "metadata": {},
     "output_type": "display_data"
    }
   ],
   "source": [
    "sns.swarmplot(sepal_length)\n",
    "\n",
    "# mean\n",
    "# draw a vertical line at the mean\n",
    "meancolor = 'r'\n",
    "plt.plot([sepal_length_mean, sepal_length_mean], [-0.25, 0.25], meancolor)\n",
    "plt.text(sepal_length_mean-.4, -0.3, 'Mean ($\\\\bar{x}$)', color=meancolor, fontsize=20)\n",
    "plt.text(sepal_length_mean-.2, 0.31, '{:.2f}'.format(sepal_length_mean), color=meancolor, fontsize=14)\n",
    "\n",
    "# median\n",
    "y_adder = 0.1\n",
    "# draw a vertical line at the median\n",
    "plt.plot([sepal_length_median, sepal_length_median], [-0.25+y_adder, 0.25+y_adder], 'b')\n",
    "plt.text(sepal_length_median-.4, -0.3+y_adder, 'Median ($\\\\tilde{x}$)', color='b', fontsize=20)\n",
    "plt.text(sepal_length_median-.2, 0.31+y_adder, '{:.2f}'.format(sepal_length_median), color='b', fontsize=14)\n",
    "\n",
    "\n",
    "plt.show()"
   ]
  }
 ],
 "metadata": {
  "anaconda-cloud": {},
  "kernelspec": {
   "display_name": "Python [conda root]",
   "language": "python",
   "name": "conda-root-py"
  },
  "language_info": {
   "codemirror_mode": {
    "name": "ipython",
    "version": 3
   },
   "file_extension": ".py",
   "mimetype": "text/x-python",
   "name": "python",
   "nbconvert_exporter": "python",
   "pygments_lexer": "ipython3",
   "version": "3.5.4"
  },
  "toc": {
   "nav_menu": {},
   "number_sections": true,
   "sideBar": true,
   "skip_h1_title": false,
   "toc_cell": false,
   "toc_position": {},
   "toc_section_display": "block",
   "toc_window_display": false
  }
 },
 "nbformat": 4,
 "nbformat_minor": 2
}
