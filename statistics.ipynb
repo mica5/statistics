{
 "cells": [
  {
   "cell_type": "markdown",
   "metadata": {},
   "source": [
    "https://github.com/mica5/statistics/blob/master/statistics.ipynb"
   ]
  },
  {
   "cell_type": "code",
   "execution_count": 40,
   "metadata": {
    "scrolled": false
   },
   "outputs": [
    {
     "name": "stdout",
     "output_type": "stream",
     "text": [
      "[NbConvertApp] Converting notebook statistics.ipynb to html\n",
      "[NbConvertApp] Writing 541716 bytes to statistics.html\n"
     ]
    }
   ],
   "source": [
    "!jupyter nbconvert --to html statistics.ipynb"
   ]
  },
  {
   "cell_type": "markdown",
   "metadata": {},
   "source": [
    "# Introduction\n",
    "\n",
    "Any data here, unless otherwise stated, is from the book Probability and Statistics for Engineering and the Sciences, 9th Edition, by Jay Devore (CENGAGE Learning). https://www.amazon.com/Probability-Statistics-Engineering-Sciences-Devore/dp/1305251806 ; many of concepts here are from there and also from taking MATH161A at SJSU (San Jose State University in San Jose, California) in Spring 2018.\n",
    "\n",
    "This notebook is easier to view using the \"Table of Contents (2)\" Nbextension (within Jupyter Notebook -> menu bar -> edit -> nbextensions config -> Table of Contents (2) -> enable. Then from inside the Jupyter Notebook -> menu bar -> \"Table of Contents\" button)."
   ]
  },
  {
   "cell_type": "code",
   "execution_count": 1,
   "metadata": {
    "collapsed": true
   },
   "outputs": [],
   "source": [
    "# these are standard imports\n",
    "import pandas as pd\n",
    "import numpy as np\n",
    "import seaborn as sns\n",
    "import matplotlib.pyplot as plt\n",
    "\n",
    "# additional imports\n",
    "from sklearn import datasets\n",
    "from IPython.display import HTML\n",
    "from collections import Counter\n",
    "from IPython.display import Latex\n"
   ]
  },
  {
   "cell_type": "markdown",
   "metadata": {},
   "source": [
    "# Stratified Sampling"
   ]
  },
  {
   "cell_type": "code",
   "execution_count": 2,
   "metadata": {
    "scrolled": true
   },
   "outputs": [
    {
     "name": "stdout",
     "output_type": "stream",
     "text": [
      "proportion of 0s: 0.3333333333333333\n",
      "proportion of 1s: 0.6666666666666666\n",
      "all added together to make sure it adds to 1: 1.0\n",
      "number of 1s compared to 0s, which should be 2: 2.0\n"
     ]
    }
   ],
   "source": [
    "from sklearn.model_selection import train_test_split\n",
    "\n",
    "i = 100\n",
    "\n",
    "# generate lists. it will look like [0, 0, ..., 0, 1, 1, ..., 1], where there are twice as many 1s as there are 0s\n",
    "population = [0]*i + [1]*i*2\n",
    "# the category is used to first split all the data by categories, then random sampling will be taken from within each category. but the way stratified sampling is meant to happen is that the number of items selected in each category compared to the number of items selected from the other categories is roughly proportional to the number of items in that category compared to the number of items in the population. that way, each category should get a representational sample, instead of categories with more items compared to the number in other catgories getting underrepresented compared to categories that have very few items.\n",
    "category = [0]*i + [1]*i*2\n",
    "# we should have twice as many 1s as we have 0s\n",
    "\n",
    "# take the stratified sample. by default, based on sklearn version 0.19.1, the sample will be 75% of the population (by default, test is 25%, and train is the complement of test, so train will be 75%)\n",
    "sample, _ = train_test_split(population, stratify=category)\n",
    "\n",
    "# count the number of 0s and ones\n",
    "c0 = sample.count(0)\n",
    "c1 = sample.count(1)\n",
    "total = c0 + c1\n",
    "# here are the proportions.\n",
    "print('proportion of 0s:', c0 / total)\n",
    "print('proportion of 1s:', c1 / total)\n",
    "print('all added together to make sure it adds to 1:', (c0+c1)/total)\n",
    "print('number of 1s compared to 0s, which should be 2:', c1/c0)"
   ]
  },
  {
   "cell_type": "markdown",
   "metadata": {},
   "source": [
    "# Stem and leaf display"
   ]
  },
  {
   "cell_type": "code",
   "execution_count": 3,
   "metadata": {},
   "outputs": [
    {
     "name": "stdout",
     "output_type": "stream",
     "text": [
      "3|1\n",
      "4|059\n",
      "5|23788\n",
      "6|01136777789\n",
      "7|000023556689\n",
      "8|0134\n",
      "Stem: tens digit\n",
      "Leaf: ones digit\n"
     ]
    }
   ],
   "source": [
    "# presidential Commission on the Space Shuttle Challenger Accident, Vol. 1, 1986: 129-131\n",
    "o_ring_temperatures = [84, 49, 61, 40, 83, 67, 45, 66, 70, 69, 80, 58, 68, 60, 67, 72, 73, 70, 57, 63, 70, 78, 52, 67, 53, 67, 75, 61, 70, 81, 76, 79, 75, 76, 58, 31]\n",
    "\n",
    "def stem_and_leaf_display(data):\n",
    "    \"\"\"print a stem-and-leaf display to standard output\n",
    "\n",
    "    This is a very primitive algorithm, as it only works for\n",
    "    two-digit numbers. It is only for demonstrative purposes.\n",
    "    \"\"\"\n",
    "    sld = dict()\n",
    "    for n in data:\n",
    "        stem = str(n)[0]\n",
    "        if stem not in sld:\n",
    "            sld[stem] = list()\n",
    "        sld[stem].append(str(n)[-1])\n",
    "    lowkey = min(sld.keys())\n",
    "    highkey = max(sld.keys())\n",
    "    for i in range(int(lowkey), int(highkey)+1, 1):\n",
    "        i = '{}'.format(i)\n",
    "        if i not in sld:\n",
    "            sld[i] = list()\n",
    "    for stem in sorted(sld.keys()):\n",
    "        print(stem+'|', end='')\n",
    "        for value in sorted(sld[stem]):\n",
    "            print(value, end='')\n",
    "        print()\n",
    "    return sld\n",
    "\n",
    "sld = stem_and_leaf_display(o_ring_temperatures)\n",
    "print(\"Stem: tens digit\\nLeaf: ones digit\")"
   ]
  },
  {
   "cell_type": "markdown",
   "metadata": {},
   "source": [
    "It can be seen that stems 6 and 7 are the typical/representative values.\n",
    "\n",
    "If there are too many leaves in a single stem, the stem can be separated to low and high; for example, 6 can be split into 6L and 6H, where 6L will contain leaves 0-4 and 6H will contain leaves 5-9.\n",
    "<br><br>\n",
    "<div style=\"font-family: Monaco\">\n",
    "3L | 1<br>\n",
    "3H | <br>\n",
    "4L | 0<br>\n",
    "4H | 59<br>\n",
    "5L | 23<br>\n",
    "5H | 788<br>\n",
    "6L | 0113<br>\n",
    "6H | 6777789 - typical value<br>\n",
    "7L | 000023<br>\n",
    "7H | 556689<br>\n",
    "8L | 0134<br>\n",
    "</div>\n",
    "\n",
    "Midterm material:<br>\n",
    "representative value: (mid 60s in 6H) -> stem with biggest number of leaves<br>\n",
    "spread: the extent of spread about typical value is rather substantial (i.e. from looking at the plot, you might expect a relatively small standard deviation)<br>\n",
    "gaps: one gap - no observations in stem 3H<br>\n",
    "number of peaks: one peak<br>\n",
    "symmetry: no symmetry; the plot is negatively skewed<br>\n",
    "outliers: in this case, 31 might be an outlier\n",
    "\n",
    "Advantages of stem-and-leaf plot: easy to construct, no loss of information (original data can be reconstructed from the diagram)<br>\n",
    "Disadvantage: doesn't work well when there's a lot of data, doesn't show the order in which the data was collected (can't show time series)\n",
    "\n",
    "Below is a time series:"
   ]
  },
  {
   "cell_type": "code",
   "execution_count": 4,
   "metadata": {},
   "outputs": [
    {
     "name": "stdout",
     "output_type": "stream",
     "text": [
      "the stem and leaf plots look the same - information can't be differentiated\n",
      "4|89\n",
      "5|001\n",
      "\n",
      "4|89\n",
      "5|001\n",
      "\n",
      "but with a plot like this, the information can be seen over time:\n"
     ]
    },
    {
     "data": {
      "image/png": "[encoded data removed]",
      "text/plain": [
       "<matplotlib.figure.Figure at 0x1a0bac4da0>"
      ]
     },
     "metadata": {},
     "output_type": "display_data"
    }
   ],
   "source": [
    "sample1 = [48, 49, 50, 50, 51]\n",
    "sample2 = [50, 49, 50, 48, 51]\n",
    "print(\"the stem and leaf plots look the same - information can't be differentiated\")\n",
    "stem_and_leaf_display(sample1)\n",
    "print()\n",
    "stem_and_leaf_display(sample2)\n",
    "\n",
    "print(\"\\nbut with a plot like this, the information can be seen over time:\")\n",
    "plt.margins(0.2)\n",
    "plt.plot(np.arange(len(sample1)), sample1)\n",
    "plt.plot(np.arange(len(sample2)), sample2)\n",
    "plt.show()"
   ]
  },
  {
   "cell_type": "markdown",
   "metadata": {},
   "source": [
    "# Dotplot\n",
    "\n",
    "Works for maybe 30-50 observations. looks a little like a beeswarm plot, but all the values are stacked."
   ]
  },
  {
   "cell_type": "code",
   "execution_count": 5,
   "metadata": {},
   "outputs": [
    {
     "data": {
      "image/png": "[encoded data removed]",
      "text/plain": [
       "<matplotlib.figure.Figure at 0x1a10ae48d0>"
      ]
     },
     "metadata": {},
     "output_type": "display_data"
    }
   ],
   "source": [
    "def dotplot(data):\n",
    "    \"\"\"dotplot in matplotlib\n",
    "\n",
    "    maybe google will index matplotlib dotplot.\n",
    "    I know it's not very pretty, but I couldn't find an existing version of a matplotlib dotplot.\"\"\"\n",
    "    c = Counter(data)\n",
    "    plt.figure(figsize=(15, 0.75))\n",
    "    plt.margins(0.1, 0.8)\n",
    "\n",
    "    maxnum = 0\n",
    "    for k, v in c.items():\n",
    "        maxnum = max(maxnum, v+1)\n",
    "        plt.plot([k]*v, list(range(1, v+1, 1)), 'bo')\n",
    "    plt.gca().set_yticks(list(range(1, maxnum, 1)))\n",
    "    plt.gca().set_xticks(list(c.keys()))\n",
    "    plt.gca().set_frame_on(False)\n",
    "    plt.ylim(0.5, maxnum - 0.5)\n",
    "    plt.show()\n",
    "\n",
    "dotplot(o_ring_temperatures)"
   ]
  },
  {
   "cell_type": "markdown",
   "metadata": {},
   "source": [
    "# Notation\n",
    "\n",
    "An example sample: {6.3, 6.2, 5.9, 6.5}, and an example population that sample was drawn from: {6.3, 4.8, 6.2, 7.6, 5.9, 6.4, 6.5, 5.9}<br>\n",
    "n=4, where n is the number of observations in the sample.<br>\n",
    "When considering more than one sample, we can use $n$ and $m$ or $n_1$ and $n_2$.\n",
    "\n",
    "Letters like x, y, and z are used to denote variables, e.g. length/height/width/age/...<br>\n",
    "When considering the variable for multiple samples, we can use $x_1, x_2, x_3, \\dots, x_n$. The subscribt number is the observation number, like the id in a database, which typically has no relationship to the values themselves."
   ]
  },
  {
   "cell_type": "code",
   "execution_count": 6,
   "metadata": {},
   "outputs": [
    {
     "data": {
      "text/html": [
       "<style  type=\"text/css\" >\n",
       "    #T_2a6211cc_0630_11e8_a6e9_8c85900c8e48 td {\n",
       "          font-size: 18px;\n",
       "    }</style>  \n",
       "<table id=\"T_2a6211cc_0630_11e8_a6e9_8c85900c8e48\" > \n",
       "<thead>    <tr> \n",
       "        <th class=\"blank level0\" ></th> \n",
       "        <th class=\"col_heading level0 col0\" >Population</th> \n",
       "        <th class=\"col_heading level0 col1\" >Sample</th> \n",
       "    </tr>    <tr> \n",
       "        <th class=\"index_name level0\" >Construct</th> \n",
       "        <th class=\"blank\" ></th> \n",
       "        <th class=\"blank\" ></th> \n",
       "    </tr></thead> \n",
       "<tbody>    <tr> \n",
       "        <th id=\"T_2a6211cc_0630_11e8_a6e9_8c85900c8e48level0_row0\" class=\"row_heading level0 row0\" >count</th> \n",
       "        <td id=\"T_2a6211cc_0630_11e8_a6e9_8c85900c8e48row0_col0\" class=\"data row0 col0\" >N</td> \n",
       "        <td id=\"T_2a6211cc_0630_11e8_a6e9_8c85900c8e48row0_col1\" class=\"data row0 col1\" >n</td> \n",
       "    </tr>    <tr> \n",
       "        <th id=\"T_2a6211cc_0630_11e8_a6e9_8c85900c8e48level0_row1\" class=\"row_heading level0 row1\" >mean</th> \n",
       "        <td id=\"T_2a6211cc_0630_11e8_a6e9_8c85900c8e48row1_col0\" class=\"data row1 col0\" >$\\mu$</td> \n",
       "        <td id=\"T_2a6211cc_0630_11e8_a6e9_8c85900c8e48row1_col1\" class=\"data row1 col1\" >$\\bar{x}$</td> \n",
       "    </tr>    <tr> \n",
       "        <th id=\"T_2a6211cc_0630_11e8_a6e9_8c85900c8e48level0_row2\" class=\"row_heading level0 row2\" >median</th> \n",
       "        <td id=\"T_2a6211cc_0630_11e8_a6e9_8c85900c8e48row2_col0\" class=\"data row2 col0\" >$\\tilde{\\mu}$</td> \n",
       "        <td id=\"T_2a6211cc_0630_11e8_a6e9_8c85900c8e48row2_col1\" class=\"data row2 col1\" >$\\tilde{x}$</td> \n",
       "    </tr>    <tr> \n",
       "        <th id=\"T_2a6211cc_0630_11e8_a6e9_8c85900c8e48level0_row3\" class=\"row_heading level0 row3\" >proportion</th> \n",
       "        <td id=\"T_2a6211cc_0630_11e8_a6e9_8c85900c8e48row3_col0\" class=\"data row3 col0\" >$p$</td> \n",
       "        <td id=\"T_2a6211cc_0630_11e8_a6e9_8c85900c8e48row3_col1\" class=\"data row3 col1\" >$\\frac{x}{n}$</td> \n",
       "    </tr></tbody> \n",
       "</table> "
      ],
      "text/plain": [
       "<pandas.io.formats.style.Styler at 0x1a0b9f20b8>"
      ]
     },
     "execution_count": 6,
     "metadata": {},
     "output_type": "execute_result"
    }
   ],
   "source": [
    "headers = ['Construct', 'Population', 'Sample']\n",
    "data = [\n",
    "    ['count', 'N', 'n'],\n",
    "    ['mean', '$\\mu$', r'$\\bar{x}$'],\n",
    "    ['median', r'$\\tilde{\\mu}$', r'$\\tilde{x}$'],\n",
    "    ['proportion', '$p$', r'$\\frac{x}{n}$'],\n",
    "]\n",
    "# make the font bigger so it's easier to see tildes/bars/etc\n",
    "# from https://pandas.pydata.org/pandas-docs/stable/style.html\n",
    "styles = [{'selector': 'td', 'props': [('font-size', '18px')]}]\n",
    "pd.DataFrame(data, columns=headers).set_index('Construct').style.set_table_styles(styles)"
   ]
  },
  {
   "cell_type": "markdown",
   "metadata": {},
   "source": [
    "# Vocabulary\n",
    "\n",
    "Point estimate: a single number that is a best guess (e.g. mean).<br>"
   ]
  },
  {
   "cell_type": "markdown",
   "metadata": {},
   "source": [
    "# Discrete vs continuous data, histograms and boxplots\n",
    "\n",
    "Continuous data can be any decimal number, e.g. although we often truncate a temperature when we're talking about it like \"71 degrees fahrenheit\", temperature is continuous because it's actually (for example) 71.56209 degrees fahrenheit. We don't usually talk about the decimal place unless we're dealing with statistics/science/data. Continuous data is usually from taking a measurement of something.<br>\n",
    "Discrete data is like the number of times something happened. Either you went to the store or you didn't; you can't go to the store a half of a time. So the number of times you went to the store will always either be 0 or a positive integer multiple of 1 (never a decimal place). Discrete data is often a result of counting things. Another example would be the number of patients admitted to an emergency room in a given 24-hour period.\n",
    "\n",
    "finite set of possible values, or \"countably infinite\" which can be listed in an infinite sequence. Mathematical concept.\n",
    "\n",
    "The stem-and-leaf display is good for discrete data, but gets complicated or impractical for continuous data. It is also good for moderately-sized datasets (15-150 observations). For continuous data, a more appropriate plot might be a histogram or a beeswarm plot (although a histogram could be used for discrete data).\n",
    "\n",
    "Histograms and boxplots are better for larger datasets."
   ]
  },
  {
   "cell_type": "code",
   "execution_count": 7,
   "metadata": {
    "scrolled": false
   },
   "outputs": [
    {
     "data": {
      "image/png": "[encoded data removed]",
      "text/plain": [
       "<matplotlib.figure.Figure at 0x1a13dac2b0>"
      ]
     },
     "metadata": {},
     "output_type": "display_data"
    },
    {
     "name": "stdout",
     "output_type": "stream",
     "text": [
      "A histogram shows a frequency distribution. The histogram above and the beeswarm plot below are displaying the same data.\n"
     ]
    },
    {
     "data": {
      "image/png": "[encoded data removed]",
      "text/plain": [
       "<matplotlib.figure.Figure at 0x1a143cbc18>"
      ]
     },
     "metadata": {},
     "output_type": "display_data"
    },
    {
     "name": "stdout",
     "output_type": "stream",
     "text": [
      "A beeswarm plot shows the exact values, whereas a histogram shows aggregates grouped by ranges.\n"
     ]
    }
   ],
   "source": [
    "np.random.seed(4)\n",
    "data = np.random.normal(size=150)\n",
    "\n",
    "plt.hist(data, bins=20)\n",
    "plt.show()\n",
    "print(\"A histogram shows a frequency distribution. The histogram above and the beeswarm plot below are displaying the same data.\")\n",
    "\n",
    "sns.swarmplot(data)\n",
    "plt.show()\n",
    "print(\"A beeswarm plot shows the exact values, whereas a histogram shows aggregates grouped by ranges.\")\n"
   ]
  },
  {
   "cell_type": "markdown",
   "metadata": {},
   "source": [
    "Devore, 16<br>\n",
    "frequency: total number of times a particular observation is observed<br>\n",
    "$\\text{relative frequency of a value} = \\frac{\\text{number of times the value occurs}}{\\text{number of observations in the data set}}$\n"
   ]
  },
  {
   "cell_type": "markdown",
   "metadata": {},
   "source": [
    "# Histograms for discrete data"
   ]
  },
  {
   "cell_type": "code",
   "execution_count": 8,
   "metadata": {},
   "outputs": [
    {
     "data": {
      "text/html": [
       "<div>\n",
       "<style>\n",
       "    .dataframe thead tr:only-child th {\n",
       "        text-align: right;\n",
       "    }\n",
       "\n",
       "    .dataframe thead th {\n",
       "        text-align: left;\n",
       "    }\n",
       "\n",
       "    .dataframe tbody tr th {\n",
       "        vertical-align: top;\n",
       "    }\n",
       "</style>\n",
       "<table border=\"1\" class=\"dataframe\">\n",
       "  <thead>\n",
       "    <tr style=\"text-align: right;\">\n",
       "      <th></th>\n",
       "      <th>numbers_of_prev_convictions</th>\n",
       "    </tr>\n",
       "  </thead>\n",
       "  <tbody>\n",
       "    <tr>\n",
       "      <th>0</th>\n",
       "      <td>0</td>\n",
       "    </tr>\n",
       "    <tr>\n",
       "      <th>1</th>\n",
       "      <td>1</td>\n",
       "    </tr>\n",
       "    <tr>\n",
       "      <th>2</th>\n",
       "      <td>1</td>\n",
       "    </tr>\n",
       "    <tr>\n",
       "      <th>3</th>\n",
       "      <td>3</td>\n",
       "    </tr>\n",
       "    <tr>\n",
       "      <th>4</th>\n",
       "      <td>0</td>\n",
       "    </tr>\n",
       "  </tbody>\n",
       "</table>\n",
       "</div>"
      ],
      "text/plain": [
       "   numbers_of_prev_convictions\n",
       "0                            0\n",
       "1                            1\n",
       "2                            1\n",
       "3                            3\n",
       "4                            0"
      ]
     },
     "execution_count": 8,
     "metadata": {},
     "output_type": "execute_result"
    }
   ],
   "source": [
    "numbers_of_prev_convictions = [0, 1, 1, 3, 0, 1, 2, 1, 4, 1, 0, 1, 1, 0, 1, 2, 0, 1, 2, 1, 0, 1, 3, 1, 0, 4, 2, 1, 1, 1, 3, 0, 0, 1, 2, 1, 1, 1, 2, 0, 4, 3]\n",
    "df = pd.DataFrame(numbers_of_prev_convictions, columns=['numbers_of_prev_convictions'])\n",
    "df.head()\n",
    "# numbers_of_prev_convictions_series = pd.Series(sorted(numbers_of_prev_convictions))"
   ]
  },
  {
   "cell_type": "code",
   "execution_count": 9,
   "metadata": {},
   "outputs": [
    {
     "name": "stdout",
     "output_type": "stream",
     "text": [
      "Frequencies:\n"
     ]
    },
    {
     "data": {
      "text/plain": [
       "0    10\n",
       "1    19\n",
       "2     6\n",
       "3     4\n",
       "4     3\n",
       "Name: numbers_of_prev_convictions, dtype: int64"
      ]
     },
     "execution_count": 9,
     "metadata": {},
     "output_type": "execute_result"
    }
   ],
   "source": [
    "print(\"Frequencies:\")\n",
    "freqs = df.numbers_of_prev_convictions.value_counts().sort_index()\n",
    "freqs"
   ]
  },
  {
   "cell_type": "code",
   "execution_count": 10,
   "metadata": {},
   "outputs": [
    {
     "name": "stdout",
     "output_type": "stream",
     "text": [
      "Relative frequencies:\n"
     ]
    },
    {
     "data": {
      "text/html": [
       "<div>\n",
       "<style>\n",
       "    .dataframe thead tr:only-child th {\n",
       "        text-align: right;\n",
       "    }\n",
       "\n",
       "    .dataframe thead th {\n",
       "        text-align: left;\n",
       "    }\n",
       "\n",
       "    .dataframe tbody tr th {\n",
       "        vertical-align: top;\n",
       "    }\n",
       "</style>\n",
       "<table border=\"1\" class=\"dataframe\">\n",
       "  <thead>\n",
       "    <tr style=\"text-align: right;\">\n",
       "      <th></th>\n",
       "      <th>proportions as fractions</th>\n",
       "      <th>proportions as decimals</th>\n",
       "    </tr>\n",
       "  </thead>\n",
       "  <tbody>\n",
       "    <tr>\n",
       "      <th>0</th>\n",
       "      <td>10/42</td>\n",
       "      <td>0.238095</td>\n",
       "    </tr>\n",
       "    <tr>\n",
       "      <th>1</th>\n",
       "      <td>19/42</td>\n",
       "      <td>0.452381</td>\n",
       "    </tr>\n",
       "    <tr>\n",
       "      <th>2</th>\n",
       "      <td>6/42</td>\n",
       "      <td>0.142857</td>\n",
       "    </tr>\n",
       "    <tr>\n",
       "      <th>3</th>\n",
       "      <td>4/42</td>\n",
       "      <td>0.095238</td>\n",
       "    </tr>\n",
       "    <tr>\n",
       "      <th>4</th>\n",
       "      <td>3/42</td>\n",
       "      <td>0.071429</td>\n",
       "    </tr>\n",
       "  </tbody>\n",
       "</table>\n",
       "</div>"
      ],
      "text/plain": [
       "  proportions as fractions  proportions as decimals\n",
       "0                    10/42                 0.238095\n",
       "1                    19/42                 0.452381\n",
       "2                     6/42                 0.142857\n",
       "3                     4/42                 0.095238\n",
       "4                     3/42                 0.071429"
      ]
     },
     "metadata": {},
     "output_type": "display_data"
    },
    {
     "name": "stdout",
     "output_type": "stream",
     "text": [
      "should add to approximately 1: 0.9999999999999999\n"
     ]
    }
   ],
   "source": [
    "print(\"Relative frequencies:\")\n",
    "rel_freqs = freqs / freqs.sum()\n",
    "display(pd.DataFrame(\n",
    "    list(zip(freqs.apply(lambda x: '{}/{}'.format(x, freqs.sum())), rel_freqs)),\n",
    "    columns=['proportions as fractions', 'proportions as decimals']\n",
    "))\n",
    "\n",
    "print(\"should add to approximately 1:\", rel_freqs.sum())"
   ]
  },
  {
   "cell_type": "code",
   "execution_count": 11,
   "metadata": {},
   "outputs": [
    {
     "name": "stdout",
     "output_type": "stream",
     "text": [
      "Proportion with more than 1 conviction: 0.31\n"
     ]
    }
   ],
   "source": [
    "print(\"Proportion with more than 1 conviction: {:.2f}\".format(rel_freqs[rel_freqs.index>1].sum()))"
   ]
  },
  {
   "cell_type": "code",
   "execution_count": 12,
   "metadata": {},
   "outputs": [
    {
     "data": {
      "text/plain": [
       "0    0.238095\n",
       "1    0.452381\n",
       "2    0.142857\n",
       "3    0.095238\n",
       "4    0.071429\n",
       "Name: numbers_of_prev_convictions, dtype: float64"
      ]
     },
     "execution_count": 12,
     "metadata": {},
     "output_type": "execute_result"
    }
   ],
   "source": [
    "rel_freqs"
   ]
  },
  {
   "cell_type": "code",
   "execution_count": 13,
   "metadata": {},
   "outputs": [
    {
     "data": {
      "image/png": "[encoded data removed]",
      "text/plain": [
       "<matplotlib.figure.Figure at 0x1a143b1cf8>"
      ]
     },
     "metadata": {},
     "output_type": "display_data"
    }
   ],
   "source": [
    "plt.hist(numbers_of_prev_convictions, bins=len(set(numbers_of_prev_convictions)), rwidth=0.9)\n",
    "axis = plt.gca()\n",
    "axis.set_xticks(list(set(numbers_of_prev_convictions)))\n",
    "axis.set_yticks(list(range(1, df.numbers_of_prev_convictions.value_counts().max()+1, 1)))\n",
    "\n",
    "plt.show()"
   ]
  },
  {
   "cell_type": "markdown",
   "metadata": {},
   "source": [
    "# Histogram: continuous case / equal class width"
   ]
  },
  {
   "cell_type": "code",
   "execution_count": 14,
   "metadata": {
    "collapsed": true
   },
   "outputs": [],
   "source": [
    "mileage_ratings = [30, 31.8, 32.5, 32.7, 32.9, 32.9, 33.1, 33.2, 33.6, 33.8, 33.9, 33.9, 34, 34.2, 34.4, 34.5, 34.8, 34.8, 35, 35.1, 35.2, 35.3, 35.5, 35.6, 35.6, 35.7, 35.8, 35.9, 35.9, 36, 36.1, 36.2, 36.3, 36.3, 36.4, 36.4, 36.5, 36.5, 36.6, 36.6, 36.7, 36.7, 36.7, 36.8, 36.8, 36.8, 36.9, 36.9, 36.9, 37, 37, 37, 37, 37.1, 37.1, 37.1, 37.2, 37.2, 37.3, 37.3, 37.4, 37.4, 37.5, 37.6, 37.6, 37.7, 37.7, 37.8, 37.9, 37.9, 38, 38.1, 38.2, 38.2, 38.3, 38.4, 38.5, 38.6, 38.7, 38.8, 39, 39, 39.3, 39.4, 39.5, 39.7, 39.8, 39.9, 40, 40.1, 40.2, 40.3, 40.5, 40.5, 40.7, 41, 41, 41.2, 42.1, 44.9]"
   ]
  },
  {
   "cell_type": "markdown",
   "metadata": {},
   "source": [
    "$\\text{a b c d}$"
   ]
  },
  {
   "cell_type": "markdown",
   "metadata": {},
   "source": [
    "Step 1: calculate range R = largest observation to smallest = 44.9-30 = 14.9.<br>\n",
    "Step 2: choose number of intervals.\n",
    "\n",
    "Empirical rules (no scientific evidence explaining which one to use or why, they are just good guidelines):<br>\n",
    "Sturgis' rule $k=1+3.2 \\log_{10}n = 1+3.2 \\log_{10}100 = 7.4 \\approx 8$<br>\n",
    "Rice rule: $k= 2 \\cdot \\sqrt[3]{n} = 2 \\cdot \\sqrt[3]{100} \\approx 9.28 \\approx 9$\n",
    "\n",
    "Find interval width $\\Delta=\\frac{R}{k}=\\frac{14.9}{8}=1.8625\\approx 1.9$\n",
    "\n",
    "$31.85=29.95+\\Delta=29.95+1.9$\n",
    "\n",
    "In the book's notation, in \"30-<31.9\", \"30-\" means \"number that is smaller than 30\". When a number falls on the border, place it in the interval on the right. Alternatively, use an extra decimal place with 0.5 compared to the numbers of decimal places in the dataset, e.g. \"29.95 to 31.85\" instead of \"30-<31.9\", so the results are the same but it's clearer which interval a datapoint falls in, instead of having to remember that a value that falls on the border number in the interval goes to the right side.\n",
    "\n",
    "Step 3: Over each interval, draw a rectangle:<br>\n",
    "base = interval width<br>\n",
    "height = relative frequency or $\\text{density} = \\frac{\\text{relative frequency}}{\\text{interval width}}$<br>\n",
    "important to use density scale on unequal class width. For equal, relative frequency; unequal, must use density.\n",
    "\n",
    "Area of histogram:\n",
    "area for each rectangle: $\\text{density} \\cdot \\text{interval width} = \\text{relative frequency}$\n",
    "\n",
    "To see more information about roots in $\\LaTeX$, see https://tex.stackexchange.com/questions/49043/nice-looking-p-th-roots/49045#49045"
   ]
  },
  {
   "cell_type": "code",
   "execution_count": 15,
   "metadata": {},
   "outputs": [
    {
     "name": "stdout",
     "output_type": "stream",
     "text": [
      "A curve superimposed over this histogram is called a 'density estimate' or 'density curve'. It tells you the shape of the distribution - in this case, symmetric.\n"
     ]
    },
    {
     "data": {
      "image/png": "[encoded data removed]",
      "text/plain": [
       "<matplotlib.figure.Figure at 0x1a143b1f60>"
      ]
     },
     "metadata": {},
     "output_type": "display_data"
    }
   ],
   "source": [
    "print(\"A curve superimposed over this histogram is called a 'density estimate' or 'density curve'. It tells you the shape of the distribution - in this case, symmetric.\")\n",
    "plt.title(\"EPA gas mileages\")\n",
    "plt.hist(mileage_ratings, bins=10)\n",
    "plt.show()"
   ]
  },
  {
   "cell_type": "markdown",
   "metadata": {},
   "source": [
    "# Skew"
   ]
  },
  {
   "cell_type": "code",
   "execution_count": 16,
   "metadata": {},
   "outputs": [
    {
     "data": {
      "image/png": "[encoded data removed]",
      "text/plain": [
       "<matplotlib.figure.Figure at 0x1a10ae4cc0>"
      ]
     },
     "metadata": {},
     "output_type": "display_data"
    },
    {
     "data": {
      "image/png": "[encoded data removed]",
      "text/plain": [
       "<matplotlib.figure.Figure at 0x1a10ac43c8>"
      ]
     },
     "metadata": {},
     "output_type": "display_data"
    }
   ],
   "source": [
    "bins = 15\n",
    "np.random.seed(0)\n",
    "p = positive = np.random.lognormal(sigma=.6, size=500)\n",
    "p = p - (p.max() - p.min())/2\n",
    "plt.hist(p, bins=bins)\n",
    "plt.title(\"positive skew\")\n",
    "plt.xlabel(\"the skew is positive because there are\\nmore values to the right of the peak\")\n",
    "plt.show()\n",
    "\n",
    "n = negative = positive * -1\n",
    "n = n + (n.max()-n.min())/2\n",
    "\n",
    "plt.hist(n, bins=bins)\n",
    "plt.title(\"negative skew\")\n",
    "plt.xlabel(\"the skew is negative because there are\\nmore values to the left of the peak\")\n",
    "plt.show()"
   ]
  },
  {
   "cell_type": "markdown",
   "metadata": {},
   "source": [
    "# Histograms and modality"
   ]
  },
  {
   "cell_type": "code",
   "execution_count": 17,
   "metadata": {
    "scrolled": false
   },
   "outputs": [
    {
     "data": {
      "image/png": "[encoded data removed]",
      "text/plain": [
       "<matplotlib.figure.Figure at 0x1a13ed7518>"
      ]
     },
     "metadata": {},
     "output_type": "display_data"
    }
   ],
   "source": [
    "np.random.seed(3)\n",
    "data = np.random.normal(size=1000)\n",
    "plt.hist(data, bins=20)\n",
    "plt.title('Sample unimodal histogram')\n",
    "plt.xlabel(\"This histogram is unimodal because it only has one peak\")\n",
    "plt.show()"
   ]
  },
  {
   "cell_type": "code",
   "execution_count": 18,
   "metadata": {},
   "outputs": [
    {
     "data": {
      "image/png": "[encoded data removed]",
      "text/plain": [
       "<matplotlib.figure.Figure at 0x1a1459f4e0>"
      ]
     },
     "metadata": {},
     "output_type": "display_data"
    }
   ],
   "source": [
    "i = 2.5\n",
    "np.random.seed(1)\n",
    "data1 = np.random.normal(-i, size=1000)\n",
    "data2 = np.random.normal(i, size=1000)\n",
    "data = np.concatenate((data1, data2))\n",
    "plt.hist(data, bins=20)\n",
    "plt.title('Sample bimodal histogram')\n",
    "plt.xlabel(\"This histogram is bimodal because it has two peaks\")\n",
    "plt.show()"
   ]
  },
  {
   "cell_type": "code",
   "execution_count": 19,
   "metadata": {
    "scrolled": true
   },
   "outputs": [
    {
     "data": {
      "image/png": "[encoded data removed]",
      "text/plain": [
       "<matplotlib.figure.Figure at 0x1a14744860>"
      ]
     },
     "metadata": {},
     "output_type": "display_data"
    }
   ],
   "source": [
    "i = 4\n",
    "size = 500\n",
    "np.random.seed(1)\n",
    "a, b, c = np.linspace(-i, i, 3)\n",
    "data1 = np.random.normal(a, size=size)\n",
    "data2 = np.random.normal(b, size=size)\n",
    "data3 = np.random.normal(c, size=size)\n",
    "data = np.concatenate((data1, data2, data3))\n",
    "plt.hist(data, bins=20)\n",
    "plt.title('Sample multimodal histogram with 3 peaks')\n",
    "plt.xlabel(\"This histogram is multimodal because it has more than one peak\")\n",
    "plt.show()"
   ]
  },
  {
   "cell_type": "code",
   "execution_count": 20,
   "metadata": {},
   "outputs": [
    {
     "data": {
      "image/png": "[encoded data removed]",
      "text/plain": [
       "<matplotlib.figure.Figure at 0x1a143b1240>"
      ]
     },
     "metadata": {},
     "output_type": "display_data"
    },
    {
     "name": "stdout",
     "output_type": "stream",
     "text": [
      "CPU times: user 121 ms, sys: 7.15 ms, total: 128 ms\n",
      "Wall time: 126 ms\n"
     ]
    }
   ],
   "source": [
    "%%time\n",
    "np.random.seed(0)\n",
    "\n",
    "data = np.random.normal(size=10000)\n",
    "\n",
    "c = Counter([round(d, 1) for d in data])\n",
    "\n",
    "x = sorted(c.keys())\n",
    "y = pd.Series([c[v] for v in x])\n",
    "\n",
    "smooth = 10\n",
    "r = range(-smooth, smooth+1, 1)\n",
    "y = sum([y.shift(i) for i in r]) / len(r)\n",
    "\n",
    "plt.plot(x, y)\n",
    "plt.title('Symmetric distribution')\n",
    "plt.show()"
   ]
  },
  {
   "cell_type": "markdown",
   "metadata": {},
   "source": [
    "# Load a dataset"
   ]
  },
  {
   "cell_type": "code",
   "execution_count": 21,
   "metadata": {},
   "outputs": [
    {
     "name": "stdout",
     "output_type": "stream",
     "text": [
      "CPU times: user 2.4 ms, sys: 2.77 ms, total: 5.17 ms\n",
      "Wall time: 3.12 ms\n"
     ]
    }
   ],
   "source": [
    "%%time\n",
    "iris = datasets.load_iris()"
   ]
  },
  {
   "cell_type": "code",
   "execution_count": 22,
   "metadata": {},
   "outputs": [
    {
     "data": {
      "text/plain": [
       "sklearn.utils.Bunch"
      ]
     },
     "execution_count": 22,
     "metadata": {},
     "output_type": "execute_result"
    }
   ],
   "source": [
    "type(iris)"
   ]
  },
  {
   "cell_type": "code",
   "execution_count": 23,
   "metadata": {},
   "outputs": [
    {
     "data": {
      "text/plain": [
       "dict_keys(['data', 'target', 'target_names', 'DESCR', 'feature_names'])"
      ]
     },
     "execution_count": 23,
     "metadata": {},
     "output_type": "execute_result"
    }
   ],
   "source": [
    "iris.keys()"
   ]
  },
  {
   "cell_type": "code",
   "execution_count": 24,
   "metadata": {},
   "outputs": [
    {
     "name": "stdout",
     "output_type": "stream",
     "text": [
      "plant observations: 4 ['sepal length (cm)', 'sepal width (cm)', 'petal length (cm)', 'petal width (cm)']\n",
      "species: 3 ['setosa' 'versicolor' 'virginica']\n"
     ]
    }
   ],
   "source": [
    "print('plant observations:', len(iris['feature_names']), iris['feature_names'])\n",
    "print('species:', len(iris['target_names']), iris['target_names'])\n"
   ]
  },
  {
   "cell_type": "markdown",
   "metadata": {},
   "source": [
    "# Categories"
   ]
  },
  {
   "cell_type": "code",
   "execution_count": 25,
   "metadata": {},
   "outputs": [
    {
     "data": {
      "text/plain": [
       "[A, B, C, D, F]\n",
       "Categories (5, object): [F < D < C < B < A]"
      ]
     },
     "execution_count": 25,
     "metadata": {},
     "output_type": "execute_result"
    }
   ],
   "source": [
    "letter_grades = [c for c in 'ABCDF']\n",
    "grades = pd.Categorical(letter_grades, ordered=True, categories=letter_grades[::-1])\n",
    "grades"
   ]
  },
  {
   "cell_type": "code",
   "execution_count": 26,
   "metadata": {
    "scrolled": false
   },
   "outputs": [
    {
     "data": {
      "text/plain": [
       "[freshmen, sophomores, juniors, seniors, graduate students]\n",
       "Categories (5, object): [freshmen < sophomores < juniors < seniors < graduate students]"
      ]
     },
     "execution_count": 26,
     "metadata": {},
     "output_type": "execute_result"
    }
   ],
   "source": [
    "student_standing = 'freshmen, sophomores, juniors, seniors, graduate students'.split(', ')\n",
    "student_standing_categories = pd.Categorical(student_standing, ordered=True, categories=student_standing)\n",
    "student_standing_categories"
   ]
  },
  {
   "cell_type": "code",
   "execution_count": 27,
   "metadata": {},
   "outputs": [
    {
     "name": "stdout",
     "output_type": "stream",
     "text": [
      "individual frequencies:\n"
     ]
    },
    {
     "data": {
      "text/plain": [
       "setosa        50\n",
       "versicolor    50\n",
       "virginica     50\n",
       "dtype: int64"
      ]
     },
     "metadata": {},
     "output_type": "display_data"
    },
    {
     "name": "stdout",
     "output_type": "stream",
     "text": [
      "relative frequencies:\n"
     ]
    },
    {
     "data": {
      "text/plain": [
       "setosa        0.333333\n",
       "versicolor    0.333333\n",
       "virginica     0.333333\n",
       "dtype: float64"
      ]
     },
     "execution_count": 27,
     "metadata": {},
     "output_type": "execute_result"
    }
   ],
   "source": [
    "targets = pd.Series([iris['target_names'][i] for i in iris['target']])\n",
    "print(\"individual frequencies:\")\n",
    "display(targets.value_counts())\n",
    "print(\"relative frequencies:\")\n",
    "targets.value_counts() / len(targets)"
   ]
  },
  {
   "cell_type": "markdown",
   "metadata": {},
   "source": [
    "Note that the relative frequencies are equivalent to the \"sample proportion of observations in those categories\". (Devore, 34)"
   ]
  },
  {
   "cell_type": "markdown",
   "metadata": {},
   "source": [
    "# Measures of location (e.g. mean and median)"
   ]
  },
  {
   "cell_type": "code",
   "execution_count": 28,
   "metadata": {},
   "outputs": [
    {
     "data": {
      "text/plain": [
       "(150,)"
      ]
     },
     "execution_count": 28,
     "metadata": {},
     "output_type": "execute_result"
    }
   ],
   "source": [
    "sepal_length = iris['data'][:, iris['feature_names'].index('sepal length (cm)')]\n",
    "sepal_length.shape"
   ]
  },
  {
   "cell_type": "code",
   "execution_count": 29,
   "metadata": {},
   "outputs": [
    {
     "data": {
      "text/plain": [
       "(4.2999999999999998, 7.9000000000000004)"
      ]
     },
     "execution_count": 29,
     "metadata": {},
     "output_type": "execute_result"
    }
   ],
   "source": [
    "sepal_length.min(), sepal_length.max()"
   ]
  },
  {
   "cell_type": "code",
   "execution_count": 30,
   "metadata": {},
   "outputs": [
    {
     "data": {
      "text/plain": [
       "5.8433333333333337"
      ]
     },
     "execution_count": 30,
     "metadata": {},
     "output_type": "execute_result"
    }
   ],
   "source": [
    "sepal_length_mean = sepal_length.mean()\n",
    "sepal_length_mean"
   ]
  },
  {
   "cell_type": "code",
   "execution_count": 31,
   "metadata": {},
   "outputs": [
    {
     "data": {
      "text/plain": [
       "5.7999999999999998"
      ]
     },
     "execution_count": 31,
     "metadata": {},
     "output_type": "execute_result"
    }
   ],
   "source": [
    "sepal_length_median = np.median(sepal_length)\n",
    "sepal_length_median"
   ]
  },
  {
   "cell_type": "code",
   "execution_count": 32,
   "metadata": {
    "collapsed": true
   },
   "outputs": [],
   "source": [
    "def quartile(iterable, count=4):\n",
    "    quartile_nums = np.linspace(0, 1, count+1)[1:-1]\n",
    "    if not isinstance(iterable, pd.Series):\n",
    "        iterable = pd.Series(iterable)\n",
    "    return iterable.quantile(quartile_nums)"
   ]
  },
  {
   "cell_type": "code",
   "execution_count": 33,
   "metadata": {
    "scrolled": true
   },
   "outputs": [
    {
     "data": {
      "text/plain": [
       "0.25    5.1\n",
       "0.50    5.8\n",
       "0.75    6.4\n",
       "dtype: float64"
      ]
     },
     "execution_count": 33,
     "metadata": {},
     "output_type": "execute_result"
    }
   ],
   "source": [
    "qs = quartile(sepal_length, count=4)\n",
    "qs"
   ]
  },
  {
   "cell_type": "code",
   "execution_count": 34,
   "metadata": {},
   "outputs": [
    {
     "data": {
      "image/png": "[encoded data removed]",
      "text/plain": [
       "<matplotlib.figure.Figure at 0x1a1493b908>"
      ]
     },
     "metadata": {},
     "output_type": "display_data"
    }
   ],
   "source": [
    "plt.figure(figsize=(8, 4))\n",
    "sns.swarmplot(sepal_length, label='Sepal Length (cm)')\n",
    "\n",
    "qcolor = 'g'\n",
    "i = 0\n",
    "for q in qs:\n",
    "    label = 'Quartiles' if i == 0 else None\n",
    "    i += 1\n",
    "    plt.plot([q, q], [-0.4, 0.4], qcolor, label=label)\n",
    "\n",
    "# mean\n",
    "# draw a vertical line at the mean\n",
    "meancolor = 'r'\n",
    "mean_label = 'Mean ($\\\\bar{x}$)'\n",
    "plt.plot([sepal_length_mean, sepal_length_mean], [-0.25, 0.25], meancolor, label=mean_label)\n",
    "plt.text(sepal_length_mean-.4, -0.3, mean_label, color=meancolor, fontsize=20)\n",
    "plt.text(sepal_length_mean-.12, 0.31, '{:.2f}'.format(sepal_length_mean), color=meancolor, fontsize=14)\n",
    "\n",
    "# median\n",
    "y_adder = 0.1\n",
    "# draw a vertical line at the median\n",
    "median_label = 'Median ($\\\\tilde{x}$)'\n",
    "plt.plot([sepal_length_median, sepal_length_median], [-0.25+y_adder, 0.25+y_adder], 'b', label=median_label)\n",
    "plt.text(sepal_length_median-.4, -0.3+y_adder, median_label, color='b', fontsize=20)\n",
    "plt.text(sepal_length_median-.12, 0.31+y_adder, '{:.2f}'.format(sepal_length_median), color='b', fontsize=14)\n",
    "\n",
    "plt.title(\"Location measures of sepal length\")\n",
    "plt.legend()\n",
    "plt.show()"
   ]
  },
  {
   "cell_type": "markdown",
   "metadata": {},
   "source": [
    "Quartiles divide the dataset into four equal parts. The following is a better example of quartiles."
   ]
  },
  {
   "cell_type": "code",
   "execution_count": 35,
   "metadata": {
    "scrolled": false
   },
   "outputs": [
    {
     "data": {
      "image/png": "[encoded data removed]",
      "text/plain": [
       "<matplotlib.figure.Figure at 0x1a14886198>"
      ]
     },
     "metadata": {},
     "output_type": "display_data"
    }
   ],
   "source": [
    "np.random.seed(0)\n",
    "data = np.random.lognormal(size=100)\n",
    "sns.swarmplot(data, label='Random log normal values')\n",
    "\n",
    "qs = quartile(data, count=4)\n",
    "\n",
    "label = 'Quartiles'\n",
    "for q in qs:\n",
    "    plt.plot([q, q], [-.25, .25], color='r', label=label)\n",
    "    label = None\n",
    "\n",
    "plt.legend()\n",
    "plt.show()"
   ]
  },
  {
   "cell_type": "markdown",
   "metadata": {},
   "source": [
    "In the graph above, it's more clear that a quartile is based on the number of values in each section."
   ]
  },
  {
   "cell_type": "markdown",
   "metadata": {},
   "source": [
    "## Trimmed mean\n",
    "\n",
    "Trim off some percentage of the lowest and highest values, and take the average of the remainder."
   ]
  },
  {
   "cell_type": "code",
   "execution_count": 36,
   "metadata": {},
   "outputs": [
    {
     "data": {
      "text/plain": [
       "(5.8433333333333337, 5.8750000000000009)"
      ]
     },
     "execution_count": 36,
     "metadata": {},
     "output_type": "execute_result"
    }
   ],
   "source": [
    "def get_trimmed_mean(iterable, percent=10):\n",
    "    proportion = percent / 100\n",
    "    trimmed_count = int(len(iterable) * proportion)\n",
    "    iterable = iterable[trimmed_count:-trimmed_count]\n",
    "    if not isinstance(iterable, np.ndarray):\n",
    "        iterable = np.array(iterable)\n",
    "    return iterable.mean()\n",
    "\n",
    "sepal_length_trimmed_mean = get_trimmed_mean(sepal_length)\n",
    "sepal_length.mean(), sepal_length_trimmed_mean"
   ]
  },
  {
   "cell_type": "code",
   "execution_count": 37,
   "metadata": {},
   "outputs": [
    {
     "name": "stdout",
     "output_type": "stream",
     "text": [
      "number of records: 26\n",
      "mean             : 3.65\n",
      "median           : 3.35\n"
     ]
    },
    {
     "data": {
      "text/latex": [
       "trimmed mean of 2/26 ($\\bar{x}_{tr(10)}$): 3.42"
      ],
      "text/plain": [
       "<IPython.core.display.Latex object>"
      ]
     },
     "metadata": {},
     "output_type": "display_data"
    }
   ],
   "source": [
    "# Bidri data from Devore, 33\n",
    "bidri_data = np.array([2.0, 2.4, 2.5, 2.6, 2.6, 2.7, 2.7, 2.8, 3.0, 3.1, 3.2, 3.3, 3.3, 3.4, 3.4, 3.6, 3.6, 3.6, 3.6, 3.7, 4.4, 4.6, 4.7, 4.8, 5.3, 10.1])\n",
    "print('number of records:', len(bidri_data))\n",
    "print('mean             : {:.2f}'.format(bidri_data.mean()))\n",
    "print('median           : {:.2f}'.format(np.median(bidri_data)))\n",
    "display(Latex('trimmed mean of 2/26 ($\\\\bar{x}_{tr(10)}$): %.2f' % get_trimmed_mean(bidri_data, percent=2/26*100)))"
   ]
  },
  {
   "cell_type": "markdown",
   "metadata": {},
   "source": [
    "The values above match those in the book:<br>\n",
    "mean: 3.65<br>\n",
    "median: 3.35<br>\n",
    "trimmed mean: 3.42"
   ]
  }
 ],
 "metadata": {
  "anaconda-cloud": {},
  "kernelspec": {
   "display_name": "Python 3",
   "language": "python",
   "name": "python3"
  },
  "language_info": {
   "codemirror_mode": {
    "name": "ipython",
    "version": 3
   },
   "file_extension": ".py",
   "mimetype": "text/x-python",
   "name": "python",
   "nbconvert_exporter": "python",
   "pygments_lexer": "ipython3",
   "version": "3.6.3"
  },
  "toc": {
   "nav_menu": {},
   "number_sections": true,
   "sideBar": true,
   "skip_h1_title": false,
   "toc_cell": false,
   "toc_position": {
    "height": "812px",
    "left": "0px",
    "right": "1344px",
    "top": "136px",
    "width": "212px"
   },
   "toc_section_display": "block",
   "toc_window_display": true
  }
 },
 "nbformat": 4,
 "nbformat_minor": 2
}
