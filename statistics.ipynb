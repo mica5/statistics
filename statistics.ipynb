{
 "cells": [
  {
   "cell_type": "markdown",
   "metadata": {},
   "source": [
    "https://github.com/mica5/statistics/blob/master/statistics.ipynb"
   ]
  },
  {
   "cell_type": "markdown",
   "metadata": {},
   "source": [
    "# Introduction\n",
    "\n",
    "Any data here, unless otherwise stated, is from the book Probability and Statistics for Engineering and the Sciences, 9th Edition, by Jay Devore (CENGAGE Learning). https://www.amazon.com/Probability-Statistics-Engineering-Sciences-Devore/dp/1305251806 ; the concepts here are also from taking MATH161A at SJSU (San Jose State University in San Jose, California) in Spring 2018.\n"
   ]
  },
  {
   "cell_type": "markdown",
   "metadata": {},
   "source": [
    "# Stratified Sampling"
   ]
  },
  {
   "cell_type": "code",
   "execution_count": 9,
   "metadata": {},
   "outputs": [
    {
     "name": "stdout",
     "output_type": "stream",
     "text": [
      "proportion of 0s: 0.3333333333333333\n",
      "proportion of 1s: 0.6666666666666666\n",
      "all added together to make sure it adds to 1: 1.0\n",
      "number of 1s compared to 0s, which should be 2: 2.0\n"
     ]
    }
   ],
   "source": [
    "from sklearn.model_selection import train_test_split\n",
    "\n",
    "\n",
    "i = 100\n",
    "\n",
    "# generate lists. it will look like [0, 0, ..., 0, 1, 1, ..., 1], where there are twice as many 1s as there are 0s\n",
    "population = [0]*i + [1]*i*2\n",
    "# the category is used to first split all the data by categories, then random sampling will be taken from within each category. but the way stratified sampling is meant to happen is that the number of items selected in each category compared to the number of items selected from the other categories is roughly proportional to the number of items in that category compared to the number of items in the population. that way, each category should get a representational sample, instead of categories with more items compared to the number in other catgories getting underrepresented compared to categories that have very few items.\n",
    "category = [0]*i + [1]*i*2\n",
    "# we should have twice as many 1s as we have 0s\n",
    "\n",
    "# take the stratified sample. by default, based on sklearn version 0.19.1, the sample will be 75% of the population (by default, test is 25%, and train is the complement of test, so train will be 75%)\n",
    "sample, _ = train_test_split(population, stratify=category)\n",
    "\n",
    "# count the number of 0s and ones\n",
    "c0 = sample.count(0)\n",
    "c1 = sample.count(1)\n",
    "total = c0 + c1\n",
    "# here are the proportions.\n",
    "print('proportion of 0s:', c0 / total)\n",
    "print('proportion of 1s:', c1 / total)\n",
    "print('all added together to make sure it adds to 1:', (c0+c1)/total)\n",
    "print('number of 1s compared to 0s, which should be 2:', c1/c0)"
   ]
  },
  {
   "cell_type": "markdown",
   "metadata": {},
   "source": [
    "# Stem and leaf display"
   ]
  },
  {
   "cell_type": "code",
   "execution_count": 10,
   "metadata": {},
   "outputs": [
    {
     "name": "stdout",
     "output_type": "stream",
     "text": [
      "3|1\n",
      "4|059\n",
      "5|23788\n",
      "6|01136777789\n",
      "7|000023556689\n",
      "8|0134\n"
     ]
    }
   ],
   "source": [
    "# presidential Commission on the Space Shuttle Challenger Accident, Vol. 1, 1986: 129-131\n",
    "o_ring_temperatures = [84, 49, 61, 40, 83, 67, 45, 66, 70, 69, 80, 58, 68, 60, 67, 72, 73, 70, 57, 63, 70, 78, 52, 67, 53, 67, 75, 61, 70, 81, 76, 79, 75, 76, 58, 31]\n",
    "\n",
    "def stem_and_leaf_display(data):\n",
    "    \"\"\"print a stem-and-leaf display to standard output\n",
    "\n",
    "    This is a very primitive algorithm, as it only works for\n",
    "    two-digit numbers. It is only for demonstrative purposes.\n",
    "    \"\"\"\n",
    "    sld = dict()\n",
    "    for n in data:\n",
    "        stem = str(n)[0]\n",
    "        if stem not in sld:\n",
    "            sld[stem] = list()\n",
    "        sld[stem].append(str(n)[-1])\n",
    "    lowkey = min(sld.keys())\n",
    "    highkey = max(sld.keys())\n",
    "    for i in range(int(lowkey), int(highkey)+1, 1):\n",
    "        i = '{}'.format(i)\n",
    "        if i not in sld:\n",
    "            sld[i] = list()\n",
    "    for stem in sorted(sld.keys()):\n",
    "        print(stem+'|', end='')\n",
    "        for value in sorted(sld[stem]):\n",
    "            print(value, end='')\n",
    "        print()\n",
    "stem_and_leaf_display(o_ring_temperatures)"
   ]
  }
 ],
 "metadata": {
  "anaconda-cloud": {},
  "kernelspec": {
   "display_name": "Python [conda root]",
   "language": "python",
   "name": "conda-root-py"
  },
  "language_info": {
   "codemirror_mode": {
    "name": "ipython",
    "version": 3
   },
   "file_extension": ".py",
   "mimetype": "text/x-python",
   "name": "python",
   "nbconvert_exporter": "python",
   "pygments_lexer": "ipython3",
   "version": "3.5.4"
  },
  "toc": {
   "nav_menu": {},
   "number_sections": true,
   "sideBar": true,
   "skip_h1_title": false,
   "toc_cell": false,
   "toc_position": {},
   "toc_section_display": "block",
   "toc_window_display": false
  }
 },
 "nbformat": 4,
 "nbformat_minor": 2
}
