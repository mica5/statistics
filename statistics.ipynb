{
 "cells": [
  {
   "cell_type": "markdown",
   "metadata": {},
   "source": [
    "https://github.com/mica5/statistics/blob/master/statistics.ipynb<br>\n",
    "https://github.com/mica5/statistics/blob/master/plotting.ipynb"
   ]
  },
  {
   "cell_type": "markdown",
   "metadata": {},
   "source": [
    "# Introduction\n",
    "\n",
    "Any data here, unless otherwise stated, is from the book Probability and Statistics for Engineering and the Sciences, 9th Edition, by Jay Devore (CENGAGE Learning). https://www.amazon.com/Probability-Statistics-Engineering-Sciences-Devore/dp/1305251806 ; many of concepts here are from there and also from taking MATH161A at SJSU (San Jose State University in San Jose, California) in Spring 2018.\n",
    "\n",
    "This notebook is easier to view using the \"Table of Contents (2)\" Nbextension (within Jupyter Notebook -> menu bar -> edit -> nbextensions config -> Table of Contents (2) -> enable. Then from inside the Jupyter Notebook -> menu bar -> \"Table of Contents\" button)."
   ]
  },
  {
   "cell_type": "code",
   "execution_count": 1,
   "metadata": {
    "collapsed": true
   },
   "outputs": [],
   "source": [
    "# these are standard imports\n",
    "import pandas as pd\n",
    "import numpy as np\n",
    "import seaborn as sns\n",
    "import matplotlib.pyplot as plt\n",
    "\n",
    "# additional imports\n",
    "from sklearn import datasets\n",
    "from IPython.display import HTML\n",
    "from collections import Counter\n",
    "from IPython.display import Latex\n"
   ]
  },
  {
   "cell_type": "markdown",
   "metadata": {},
   "source": [
    "# Stratified Sampling"
   ]
  },
  {
   "cell_type": "code",
   "execution_count": 2,
   "metadata": {
    "scrolled": true
   },
   "outputs": [
    {
     "name": "stdout",
     "output_type": "stream",
     "text": [
      "proportion of 0s: 0.3333333333333333\n",
      "proportion of 1s: 0.6666666666666666\n",
      "all added together to make sure it adds to 1: 1.0\n",
      "number of 1s compared to 0s, which should be 2: 2.0\n"
     ]
    }
   ],
   "source": [
    "from sklearn.model_selection import train_test_split\n",
    "\n",
    "i = 100\n",
    "\n",
    "# generate lists. it will look like [0, 0, ..., 0, 1, 1, ..., 1], where there are twice as many 1s as there are 0s\n",
    "population = [0]*i + [1]*i*2\n",
    "# the category is used to first split all the data by categories, then random sampling will be taken from within each category. but the way stratified sampling is meant to happen is that the number of items selected in each category compared to the number of items selected from the other categories is roughly proportional to the number of items in that category compared to the number of items in the population. that way, each category should get a representational sample, instead of categories with more items compared to the number in other catgories getting underrepresented compared to categories that have very few items.\n",
    "category = [0]*i + [1]*i*2\n",
    "# we should have twice as many 1s as we have 0s\n",
    "\n",
    "# take the stratified sample. by default, based on sklearn version 0.19.1, the sample will be 75% of the population (by default, test is 25%, and train is the complement of test, so train will be 75%)\n",
    "sample, _ = train_test_split(population, stratify=category)\n",
    "\n",
    "# count the number of 0s and ones\n",
    "c0 = sample.count(0)\n",
    "c1 = sample.count(1)\n",
    "total = c0 + c1\n",
    "# here are the proportions.\n",
    "print('proportion of 0s:', c0 / total)\n",
    "print('proportion of 1s:', c1 / total)\n",
    "print('all added together to make sure it adds to 1:', (c0+c1)/total)\n",
    "print('number of 1s compared to 0s, which should be 2:', c1/c0)"
   ]
  },
  {
   "cell_type": "markdown",
   "metadata": {},
   "source": [
    "# Notation\n",
    "\n",
    "An example sample: {6.3, 6.2, 5.9, 6.5}, and an example population that sample was drawn from: {6.3, 4.8, 6.2, 7.6, 5.9, 6.4, 6.5, 5.9}<br>\n",
    "n=4, where n is the number of observations in the sample.<br>\n",
    "When considering more than one sample, we can use $n$ and $m$ or $n_1$ and $n_2$.\n",
    "\n",
    "Letters like x, y, and z are used to denote variables, e.g. length/height/width/age/...<br>\n",
    "When considering the variable for multiple samples, we can use $x_1, x_2, x_3, \\dots, x_n$. The subscribt number is the observation number, like the id in a database, which typically has no relationship to the values themselves."
   ]
  },
  {
   "cell_type": "code",
   "execution_count": 6,
   "metadata": {},
   "outputs": [
    {
     "data": {
      "text/html": [
       "<style  type=\"text/css\" >\n",
       "    #T_2a6211cc_0630_11e8_a6e9_8c85900c8e48 td {\n",
       "          font-size: 18px;\n",
       "    }</style>  \n",
       "<table id=\"T_2a6211cc_0630_11e8_a6e9_8c85900c8e48\" > \n",
       "<thead>    <tr> \n",
       "        <th class=\"blank level0\" ></th> \n",
       "        <th class=\"col_heading level0 col0\" >Population</th> \n",
       "        <th class=\"col_heading level0 col1\" >Sample</th> \n",
       "    </tr>    <tr> \n",
       "        <th class=\"index_name level0\" >Construct</th> \n",
       "        <th class=\"blank\" ></th> \n",
       "        <th class=\"blank\" ></th> \n",
       "    </tr></thead> \n",
       "<tbody>    <tr> \n",
       "        <th id=\"T_2a6211cc_0630_11e8_a6e9_8c85900c8e48level0_row0\" class=\"row_heading level0 row0\" >count</th> \n",
       "        <td id=\"T_2a6211cc_0630_11e8_a6e9_8c85900c8e48row0_col0\" class=\"data row0 col0\" >N</td> \n",
       "        <td id=\"T_2a6211cc_0630_11e8_a6e9_8c85900c8e48row0_col1\" class=\"data row0 col1\" >n</td> \n",
       "    </tr>    <tr> \n",
       "        <th id=\"T_2a6211cc_0630_11e8_a6e9_8c85900c8e48level0_row1\" class=\"row_heading level0 row1\" >mean</th> \n",
       "        <td id=\"T_2a6211cc_0630_11e8_a6e9_8c85900c8e48row1_col0\" class=\"data row1 col0\" >$\\mu$</td> \n",
       "        <td id=\"T_2a6211cc_0630_11e8_a6e9_8c85900c8e48row1_col1\" class=\"data row1 col1\" >$\\bar{x}$</td> \n",
       "    </tr>    <tr> \n",
       "        <th id=\"T_2a6211cc_0630_11e8_a6e9_8c85900c8e48level0_row2\" class=\"row_heading level0 row2\" >median</th> \n",
       "        <td id=\"T_2a6211cc_0630_11e8_a6e9_8c85900c8e48row2_col0\" class=\"data row2 col0\" >$\\tilde{\\mu}$</td> \n",
       "        <td id=\"T_2a6211cc_0630_11e8_a6e9_8c85900c8e48row2_col1\" class=\"data row2 col1\" >$\\tilde{x}$</td> \n",
       "    </tr>    <tr> \n",
       "        <th id=\"T_2a6211cc_0630_11e8_a6e9_8c85900c8e48level0_row3\" class=\"row_heading level0 row3\" >proportion</th> \n",
       "        <td id=\"T_2a6211cc_0630_11e8_a6e9_8c85900c8e48row3_col0\" class=\"data row3 col0\" >$p$</td> \n",
       "        <td id=\"T_2a6211cc_0630_11e8_a6e9_8c85900c8e48row3_col1\" class=\"data row3 col1\" >$\\frac{x}{n}$</td> \n",
       "    </tr></tbody> \n",
       "</table> "
      ],
      "text/plain": [
       "<pandas.io.formats.style.Styler at 0x1a0b9f20b8>"
      ]
     },
     "execution_count": 6,
     "metadata": {},
     "output_type": "execute_result"
    }
   ],
   "source": [
    "headers = ['Construct', 'Population', 'Sample']\n",
    "data = [\n",
    "    ['count', 'N', 'n'],\n",
    "    ['mean', '$\\mu$', r'$\\bar{x}$'],\n",
    "    ['median', r'$\\tilde{\\mu}$', r'$\\tilde{x}$'],\n",
    "    ['proportion', '$p$', r'$\\frac{x}{n}$'],\n",
    "]\n",
    "# make the font bigger so it's easier to see tildes/bars/etc\n",
    "# from https://pandas.pydata.org/pandas-docs/stable/style.html\n",
    "styles = [{'selector': 'td', 'props': [('font-size', '18px')]}]\n",
    "pd.DataFrame(data, columns=headers).set_index('Construct').style.set_table_styles(styles)"
   ]
  },
  {
   "cell_type": "markdown",
   "metadata": {},
   "source": [
    "# Vocabulary\n",
    "\n",
    "Point estimate: a single number that is a best guess (e.g. mean).<br>"
   ]
  },
  {
   "cell_type": "markdown",
   "metadata": {},
   "source": [
    "# Load a dataset"
   ]
  },
  {
   "cell_type": "code",
   "execution_count": 21,
   "metadata": {},
   "outputs": [
    {
     "name": "stdout",
     "output_type": "stream",
     "text": [
      "CPU times: user 2.4 ms, sys: 2.77 ms, total: 5.17 ms\n",
      "Wall time: 3.12 ms\n"
     ]
    }
   ],
   "source": [
    "%%time\n",
    "iris = datasets.load_iris()"
   ]
  },
  {
   "cell_type": "code",
   "execution_count": 22,
   "metadata": {},
   "outputs": [
    {
     "data": {
      "text/plain": [
       "sklearn.utils.Bunch"
      ]
     },
     "execution_count": 22,
     "metadata": {},
     "output_type": "execute_result"
    }
   ],
   "source": [
    "type(iris)"
   ]
  },
  {
   "cell_type": "code",
   "execution_count": 23,
   "metadata": {},
   "outputs": [
    {
     "data": {
      "text/plain": [
       "dict_keys(['data', 'target', 'target_names', 'DESCR', 'feature_names'])"
      ]
     },
     "execution_count": 23,
     "metadata": {},
     "output_type": "execute_result"
    }
   ],
   "source": [
    "iris.keys()"
   ]
  },
  {
   "cell_type": "code",
   "execution_count": 24,
   "metadata": {},
   "outputs": [
    {
     "name": "stdout",
     "output_type": "stream",
     "text": [
      "plant observations: 4 ['sepal length (cm)', 'sepal width (cm)', 'petal length (cm)', 'petal width (cm)']\n",
      "species: 3 ['setosa' 'versicolor' 'virginica']\n"
     ]
    }
   ],
   "source": [
    "print('plant observations:', len(iris['feature_names']), iris['feature_names'])\n",
    "print('species:', len(iris['target_names']), iris['target_names'])\n"
   ]
  },
  {
   "cell_type": "markdown",
   "metadata": {},
   "source": [
    "# Categories"
   ]
  },
  {
   "cell_type": "code",
   "execution_count": 25,
   "metadata": {},
   "outputs": [
    {
     "data": {
      "text/plain": [
       "[A, B, C, D, F]\n",
       "Categories (5, object): [F < D < C < B < A]"
      ]
     },
     "execution_count": 25,
     "metadata": {},
     "output_type": "execute_result"
    }
   ],
   "source": [
    "letter_grades = [c for c in 'ABCDF']\n",
    "grades = pd.Categorical(letter_grades, ordered=True, categories=letter_grades[::-1])\n",
    "grades"
   ]
  },
  {
   "cell_type": "code",
   "execution_count": 26,
   "metadata": {
    "scrolled": false
   },
   "outputs": [
    {
     "data": {
      "text/plain": [
       "[freshmen, sophomores, juniors, seniors, graduate students]\n",
       "Categories (5, object): [freshmen < sophomores < juniors < seniors < graduate students]"
      ]
     },
     "execution_count": 26,
     "metadata": {},
     "output_type": "execute_result"
    }
   ],
   "source": [
    "student_standing = 'freshmen, sophomores, juniors, seniors, graduate students'.split(', ')\n",
    "student_standing_categories = pd.Categorical(student_standing, ordered=True, categories=student_standing)\n",
    "student_standing_categories"
   ]
  },
  {
   "cell_type": "code",
   "execution_count": 27,
   "metadata": {},
   "outputs": [
    {
     "name": "stdout",
     "output_type": "stream",
     "text": [
      "individual frequencies:\n"
     ]
    },
    {
     "data": {
      "text/plain": [
       "setosa        50\n",
       "versicolor    50\n",
       "virginica     50\n",
       "dtype: int64"
      ]
     },
     "metadata": {},
     "output_type": "display_data"
    },
    {
     "name": "stdout",
     "output_type": "stream",
     "text": [
      "relative frequencies:\n"
     ]
    },
    {
     "data": {
      "text/plain": [
       "setosa        0.333333\n",
       "versicolor    0.333333\n",
       "virginica     0.333333\n",
       "dtype: float64"
      ]
     },
     "execution_count": 27,
     "metadata": {},
     "output_type": "execute_result"
    }
   ],
   "source": [
    "targets = pd.Series([iris['target_names'][i] for i in iris['target']])\n",
    "print(\"individual frequencies:\")\n",
    "display(targets.value_counts())\n",
    "print(\"relative frequencies:\")\n",
    "targets.value_counts() / len(targets)"
   ]
  },
  {
   "cell_type": "markdown",
   "metadata": {},
   "source": [
    "Note that the relative frequencies are equivalent to the \"sample proportion of observations in those categories\". (Devore, 34)"
   ]
  },
  {
   "cell_type": "markdown",
   "metadata": {},
   "source": [
    "# Measures of location (e.g. mean and median)"
   ]
  },
  {
   "cell_type": "code",
   "execution_count": 28,
   "metadata": {},
   "outputs": [
    {
     "data": {
      "text/plain": [
       "(150,)"
      ]
     },
     "execution_count": 28,
     "metadata": {},
     "output_type": "execute_result"
    }
   ],
   "source": [
    "sepal_length = iris['data'][:, iris['feature_names'].index('sepal length (cm)')]\n",
    "sepal_length.shape"
   ]
  },
  {
   "cell_type": "code",
   "execution_count": 29,
   "metadata": {},
   "outputs": [
    {
     "data": {
      "text/plain": [
       "(4.2999999999999998, 7.9000000000000004)"
      ]
     },
     "execution_count": 29,
     "metadata": {},
     "output_type": "execute_result"
    }
   ],
   "source": [
    "sepal_length.min(), sepal_length.max()"
   ]
  },
  {
   "cell_type": "code",
   "execution_count": 30,
   "metadata": {},
   "outputs": [
    {
     "data": {
      "text/plain": [
       "5.8433333333333337"
      ]
     },
     "execution_count": 30,
     "metadata": {},
     "output_type": "execute_result"
    }
   ],
   "source": [
    "sepal_length_mean = sepal_length.mean()\n",
    "sepal_length_mean"
   ]
  },
  {
   "cell_type": "code",
   "execution_count": 31,
   "metadata": {},
   "outputs": [
    {
     "data": {
      "text/plain": [
       "5.7999999999999998"
      ]
     },
     "execution_count": 31,
     "metadata": {},
     "output_type": "execute_result"
    }
   ],
   "source": [
    "sepal_length_median = np.median(sepal_length)\n",
    "sepal_length_median"
   ]
  },
  {
   "cell_type": "code",
   "execution_count": 32,
   "metadata": {
    "collapsed": true
   },
   "outputs": [],
   "source": [
    "def quartile(iterable, count=4):\n",
    "    quartile_nums = np.linspace(0, 1, count+1)[1:-1]\n",
    "    if not isinstance(iterable, pd.Series):\n",
    "        iterable = pd.Series(iterable)\n",
    "    return iterable.quantile(quartile_nums)"
   ]
  },
  {
   "cell_type": "code",
   "execution_count": 33,
   "metadata": {
    "scrolled": true
   },
   "outputs": [
    {
     "data": {
      "text/plain": [
       "0.25    5.1\n",
       "0.50    5.8\n",
       "0.75    6.4\n",
       "dtype: float64"
      ]
     },
     "execution_count": 33,
     "metadata": {},
     "output_type": "execute_result"
    }
   ],
   "source": [
    "qs = quartile(sepal_length, count=4)\n",
    "qs"
   ]
  },
  {
   "cell_type": "code",
   "execution_count": 34,
   "metadata": {},
   "outputs": [
    {
     "data": {
      "image/png": "[encoded data removed]",
      "text/plain": [
       "<matplotlib.figure.Figure at 0x1a1493b908>"
      ]
     },
     "metadata": {},
     "output_type": "display_data"
    }
   ],
   "source": [
    "plt.figure(figsize=(8, 4))\n",
    "sns.swarmplot(sepal_length, label='Sepal Length (cm)')\n",
    "\n",
    "qcolor = 'g'\n",
    "i = 0\n",
    "for q in qs:\n",
    "    label = 'Quartiles' if i == 0 else None\n",
    "    i += 1\n",
    "    plt.plot([q, q], [-0.4, 0.4], qcolor, label=label)\n",
    "\n",
    "# mean\n",
    "# draw a vertical line at the mean\n",
    "meancolor = 'r'\n",
    "mean_label = 'Mean ($\\\\bar{x}$)'\n",
    "plt.plot([sepal_length_mean, sepal_length_mean], [-0.25, 0.25], meancolor, label=mean_label)\n",
    "plt.text(sepal_length_mean-.4, -0.3, mean_label, color=meancolor, fontsize=20)\n",
    "plt.text(sepal_length_mean-.12, 0.31, '{:.2f}'.format(sepal_length_mean), color=meancolor, fontsize=14)\n",
    "\n",
    "# median\n",
    "y_adder = 0.1\n",
    "# draw a vertical line at the median\n",
    "median_label = 'Median ($\\\\tilde{x}$)'\n",
    "plt.plot([sepal_length_median, sepal_length_median], [-0.25+y_adder, 0.25+y_adder], 'b', label=median_label)\n",
    "plt.text(sepal_length_median-.4, -0.3+y_adder, median_label, color='b', fontsize=20)\n",
    "plt.text(sepal_length_median-.12, 0.31+y_adder, '{:.2f}'.format(sepal_length_median), color='b', fontsize=14)\n",
    "\n",
    "plt.title(\"Location measures of sepal length\")\n",
    "plt.legend()\n",
    "plt.show()"
   ]
  },
  {
   "cell_type": "markdown",
   "metadata": {},
   "source": [
    "Quartiles divide the dataset into four equal parts. The following is a better example of quartiles."
   ]
  },
  {
   "cell_type": "code",
   "execution_count": 35,
   "metadata": {
    "scrolled": false
   },
   "outputs": [
    {
     "data": {
      "image/png": "[encoded data removed]",
      "text/plain": [
       "<matplotlib.figure.Figure at 0x1a14886198>"
      ]
     },
     "metadata": {},
     "output_type": "display_data"
    }
   ],
   "source": [
    "np.random.seed(0)\n",
    "data = np.random.lognormal(size=100)\n",
    "sns.swarmplot(data, label='Random log normal values')\n",
    "\n",
    "qs = quartile(data, count=4)\n",
    "\n",
    "label = 'Quartiles'\n",
    "for q in qs:\n",
    "    plt.plot([q, q], [-.25, .25], color='r', label=label)\n",
    "    label = None\n",
    "\n",
    "plt.legend()\n",
    "plt.show()"
   ]
  },
  {
   "cell_type": "markdown",
   "metadata": {},
   "source": [
    "In the graph above, it's more clear that a quartile is based on the number of values in each section."
   ]
  },
  {
   "cell_type": "markdown",
   "metadata": {},
   "source": [
    "## Trimmed mean\n",
    "\n",
    "Trim off some percentage of the lowest and highest values, and take the average of the remainder."
   ]
  },
  {
   "cell_type": "code",
   "execution_count": 36,
   "metadata": {},
   "outputs": [
    {
     "data": {
      "text/plain": [
       "(5.8433333333333337, 5.8750000000000009)"
      ]
     },
     "execution_count": 36,
     "metadata": {},
     "output_type": "execute_result"
    }
   ],
   "source": [
    "def get_trimmed_mean(iterable, percent=10):\n",
    "    proportion = percent / 100\n",
    "    trimmed_count = int(len(iterable) * proportion)\n",
    "    iterable = iterable[trimmed_count:-trimmed_count]\n",
    "    if not isinstance(iterable, np.ndarray):\n",
    "        iterable = np.array(iterable)\n",
    "    return iterable.mean()\n",
    "\n",
    "sepal_length_trimmed_mean = get_trimmed_mean(sepal_length)\n",
    "sepal_length.mean(), sepal_length_trimmed_mean"
   ]
  },
  {
   "cell_type": "code",
   "execution_count": 37,
   "metadata": {},
   "outputs": [
    {
     "name": "stdout",
     "output_type": "stream",
     "text": [
      "number of records: 26\n",
      "mean             : 3.65\n",
      "median           : 3.35\n"
     ]
    },
    {
     "data": {
      "text/latex": [
       "trimmed mean of 2/26 ($\\bar{x}_{tr(10)}$): 3.42"
      ],
      "text/plain": [
       "<IPython.core.display.Latex object>"
      ]
     },
     "metadata": {},
     "output_type": "display_data"
    }
   ],
   "source": [
    "# Bidri data from Devore, 33\n",
    "bidri_data = np.array([2.0, 2.4, 2.5, 2.6, 2.6, 2.7, 2.7, 2.8, 3.0, 3.1, 3.2, 3.3, 3.3, 3.4, 3.4, 3.6, 3.6, 3.6, 3.6, 3.7, 4.4, 4.6, 4.7, 4.8, 5.3, 10.1])\n",
    "print('number of records:', len(bidri_data))\n",
    "print('mean             : {:.2f}'.format(bidri_data.mean()))\n",
    "print('median           : {:.2f}'.format(np.median(bidri_data)))\n",
    "display(Latex('trimmed mean of 2/26 ($\\\\bar{x}_{tr(10)}$): %.2f' % get_trimmed_mean(bidri_data, percent=2/26*100)))"
   ]
  },
  {
   "cell_type": "markdown",
   "metadata": {},
   "source": [
    "The values above match those in the book:<br>\n",
    "mean: 3.65<br>\n",
    "median: 3.35<br>\n",
    "trimmed mean: 3.42"
   ]
  }
 ],
 "metadata": {
  "anaconda-cloud": {},
  "kernelspec": {
   "display_name": "Python 3",
   "language": "python",
   "name": "python3"
  },
  "language_info": {
   "codemirror_mode": {
    "name": "ipython",
    "version": 3
   },
   "file_extension": ".py",
   "mimetype": "text/x-python",
   "name": "python",
   "nbconvert_exporter": "python",
   "pygments_lexer": "ipython3",
   "version": "3.6.3"
  },
  "toc": {
   "nav_menu": {},
   "number_sections": true,
   "sideBar": true,
   "skip_h1_title": false,
   "toc_cell": false,
   "toc_position": {
    "height": "812px",
    "left": "0px",
    "right": "1344px",
    "top": "136px",
    "width": "212px"
   },
   "toc_section_display": "block",
   "toc_window_display": true
  }
 },
 "nbformat": 4,
 "nbformat_minor": 2
}
